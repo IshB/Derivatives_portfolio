{
  "cells": [
    {
      "cell_type": "code",
      "execution_count": null,
      "metadata": {
        "id": "a_QqSuwQNRJY"
      },
      "outputs": [],
      "source": [
        "import numpy as np\n",
        "import pandas as pd\n",
        "import matplotlib.pyplot as plt\n",
        "from scipy.stats import norm, multivariate_normal\n",
        "from datetime import date\n",
        "from dateutil.relativedelta import relativedelta"
      ]
    },
    {
      "cell_type": "code",
      "execution_count": null,
      "metadata": {
        "id": "9adR6xCrElIw"
      },
      "outputs": [],
      "source": [
        "# Functions\n",
        "def bs_price(S, K, T, r, vol):\n",
        "    \"\"\"Calculates the price of a European call option using the Black-Scholes model.\"\"\"\n",
        "    d1 = (np.log(S / K) + (r + 0.5 * vol ** 2) * T) / (vol * np.sqrt(T))\n",
        "    d2 = d1 - vol * np.sqrt(T)\n",
        "    price =  (S * norm.cdf(d1) - K * np.exp(-r * T) * norm.cdf(d2))\n",
        "    return price\n",
        "\n",
        "def bs_greeks(S, K, T, r, vol):\n",
        "    \"\"\"Calculates the Greeks of a European call option using the Black-Scholes model.\"\"\"\n",
        "    d1 = (np.log(S / K) + (r + 0.5 * vol ** 2) * T) / (vol * np.sqrt(T))\n",
        "    d2 = d1 - vol * np.sqrt(T)\n",
        "\n",
        "    # Greeks\n",
        "    delta=norm.cdf(d1)\n",
        "    gamma=norm.pdf(d1)/(S*vol*np.sqrt(T))\n",
        "    df = np.exp(-r * T)\n",
        "    theta=- (S * norm.pdf(d1) * vol) / (2 * np.sqrt(T)) - r * K *df* norm.cdf(d2)\n",
        "    vega=S*norm.pdf(d1)*np.sqrt(T)\n",
        "    rho=K*T*df*norm.cdf(d2)\n",
        "\n",
        "    return {\n",
        "        \"Delta\": delta,\n",
        "        \"Theta\": theta,\n",
        "        \"Rho\": rho,\n",
        "        \"Vega\": vega,\n",
        "         }\n",
        "\n",
        "def aad_greeks(S, K, T, r, vol):\n",
        "    \"\"\"Calculates the derivatives of the Black-Scholes call option price with respect to its parameters using AAD method.\"\"\"\n",
        "    d1 = (np.log(S / K) + (r + 0.5 * vol ** 2) * T) / (vol * np.sqrt(T))\n",
        "    d2 = d1 - vol * np.sqrt(T)\n",
        "\n",
        "\n",
        "    s_bar = norm.cdf(d1)\n",
        "    t_bar = r * norm.cdf(d2) * K * np.exp(-r * T)\n",
        "    r_bar = T * norm.cdf(d2) * K * np.exp(-r * T)\n",
        "    d1_bar = S * norm.pdf(d1)\n",
        "    d2_bar = -norm.pdf(d2) * K * np.exp(-r * T)\n",
        "    vol_bar = -np.sqrt(T) * d2_bar\n",
        "    d1_bar += d2_bar\n",
        "    t_bar += -0.5 * vol * d2_bar / np.sqrt(T)\n",
        "    s_bar += d1_bar / (S * vol * np.sqrt(T))\n",
        "    r_bar += d1_bar * T / (vol * np.sqrt(T))\n",
        "    vol_bar += d1_bar * (-(np.log(S / K) + r * T) / (vol ** 2 * np.sqrt(T)) + 0.5 * np.sqrt(T))\n",
        "    t_bar += d1_bar * (-0.5 * np.log(S / K) / (vol * T ** 1.5) + (r + 0.5 * vol ** 2) / (2 * vol * np.sqrt(T)))\n",
        "\n",
        "    return {\n",
        "        \"Delta\": s_bar,\n",
        "        \"Theta\": -t_bar,\n",
        "        \"Rho\": r_bar,\n",
        "        \"Vega\": vol_bar,\n",
        "         }\n",
        "\n"
      ]
    },
    {
      "cell_type": "code",
      "execution_count": null,
      "metadata": {
        "id": "lD-EhfmyQOFq"
      },
      "outputs": [],
      "source": [
        "S0 = 100.0\n",
        "K = 105.0\n",
        "r = 0.06\n",
        "T = 1\n",
        "sigma = 0.3\n",
        "recovery_rate = 0.4 #Adjustable"
      ]
    },
    {
      "cell_type": "code",
      "execution_count": null,
      "metadata": {
        "colab": {
          "base_uri": "https://localhost:8080/"
        },
        "id": "-EZWRaLhomH0",
        "outputId": "7855ec05-16b4-4511-c76a-5ce470800882"
      },
      "outputs": [
        {
          "data": {
            "text/plain": [
              "12.422657818525288"
            ]
          },
          "execution_count": 4,
          "metadata": {},
          "output_type": "execute_result"
        }
      ],
      "source": [
        "bs_price(S0, K, T, r, sigma)"
      ]
    },
    {
      "cell_type": "code",
      "execution_count": null,
      "metadata": {
        "colab": {
          "base_uri": "https://localhost:8080/"
        },
        "id": "VRnQWNRVourz",
        "outputId": "7b897033-b875-4c7b-f7cb-0ba9bc7050ae"
      },
      "outputs": [
        {
          "data": {
            "text/plain": [
              "{'Delta': 0.5743132075345124,\n",
              " 'Theta': -8.580530798935547,\n",
              " 'Rho': 45.00866293492596,\n",
              " 'Vega': 39.20007348559993}"
            ]
          },
          "execution_count": 9,
          "metadata": {},
          "output_type": "execute_result"
        }
      ],
      "source": [
        "bs_greeks(S0, K, T, r, sigma)"
      ]
    },
    {
      "cell_type": "code",
      "execution_count": null,
      "metadata": {
        "colab": {
          "base_uri": "https://localhost:8080/"
        },
        "id": "Tpy_eScuwfed",
        "outputId": "6e2e15ab-7558-4aea-aa65-7217048043ec"
      },
      "outputs": [
        {
          "data": {
            "text/plain": [
              "{'Delta': 0.5743132075345124,\n",
              " 'Theta': -8.580530798935547,\n",
              " 'Rho': 45.00866293492596,\n",
              " 'Vega': 39.20007348559993}"
            ]
          },
          "execution_count": 6,
          "metadata": {},
          "output_type": "execute_result"
        }
      ],
      "source": [
        "aad_greeks(S0, K, T, r, sigma)"
      ]
    },
    {
      "cell_type": "code",
      "execution_count": null,
      "metadata": {
        "id": "QOIPbSZRitW5"
      },
      "outputs": [],
      "source": [
        "def generate_paths(S, T, r, vol, paths): \n",
        "    dt = T / paths\n",
        "    return S * np.exp(np.cumsum((r - 0.5 * vol ** 2) * dt + vol * np.sqrt(dt) * np.random.normal(size=(paths, int(T/dt))), axis=1))"
      ]
    },
    {
      "cell_type": "code",
      "execution_count": null,
      "metadata": {
        "id": "BulF4MDV-vNl"
      },
      "outputs": [],
      "source": [
        "def mc_price(S, K, T, r, vol, paths):\n",
        "    \"\"\"Prices a European call option using Monte Carlo simulation.\"\"\"\n",
        "\n",
        "    prices = generate_paths(S, T, r, vol, paths)\n",
        "    payoffs = np.maximum(prices[:, -1] - K, 0)\n",
        "    option_price = np.mean(payoffs * np.exp(-r * T))\n",
        "\n",
        "    return option_price, payoffs\n"
      ]
    },
    {
      "cell_type": "code",
      "execution_count": null,
      "metadata": {
        "id": "hXtXJ7e8wSnP"
      },
      "outputs": [],
      "source": [
        "def compute_risk_metrics(S, K, T, r, vol, recovery_rate, paths):\n",
        "    _, payoffs = mc_price(S, K, T, r, vol, paths)\n",
        "\n",
        "    t = T\n",
        "    Expected_Exposure = pd.DataFrame(columns=['default_time', 'Exposure'])\n",
        "    Potential_Exposure = pd.DataFrame(columns=['default_time', 'Exposure'])\n",
        "\n",
        "    for i in range (12):\n",
        "        t = T - (T*i)/12 #calculate every after 1/12 portion of maturity time\n",
        "        _, payoffs = mc_price(S, K, t, r, vol, paths)\n",
        "\n",
        "        #By definition, EE and PE does not depend on default rate\n",
        "        expected_exposure = np.mean(payoffs) * recovery_rate # Option price never negative\n",
        "        potential_exposure = np.quantile(payoffs, 0.95) * recovery_rate #95% quantile\n",
        "\n",
        "        Expected_Exposure.loc[i] = [T*i/12, expected_exposure]\n",
        "        Potential_Exposure.loc[i] = [T*i/12, potential_exposure]\n",
        "\n",
        "    return Expected_Exposure, Potential_Exposure\n",
        "\n"
      ]
    },
    {
      "cell_type": "code",
      "execution_count": null,
      "metadata": {
        "colab": {
          "base_uri": "https://localhost:8080/"
        },
        "id": "MEuayChO-79w",
        "outputId": "2b440649-3167-4104-fa9b-42c48f58ba58"
      },
      "outputs": [
        {
          "data": {
            "text/plain": [
              "12.422657818525288"
            ]
          },
          "execution_count": 13,
          "metadata": {},
          "output_type": "execute_result"
        }
      ],
      "source": [
        "bs_price(S0, K, T, r, sigma)"
      ]
    },
    {
      "cell_type": "code",
      "execution_count": null,
      "metadata": {
        "colab": {
          "base_uri": "https://localhost:8080/"
        },
        "id": "UWmv_MwI_BW0",
        "outputId": "b384c6d5-1844-4a50-b5d1-4c5d1fef7b55"
      },
      "outputs": [
        {
          "data": {
            "text/plain": [
              "11.715866940534767"
            ]
          },
          "execution_count": 14,
          "metadata": {},
          "output_type": "execute_result"
        }
      ],
      "source": [
        "mc_price(S0, K, T, r, sigma,500)[0]"
      ]
    },
    {
      "cell_type": "code",
      "execution_count": null,
      "metadata": {
        "colab": {
          "base_uri": "https://localhost:8080/",
          "height": 1000
        },
        "id": "2qpJ6eL6yNQe",
        "outputId": "d6c1462b-f382-4f69-b5e3-d54e70b85821"
      },
      "outputs": [
        {
          "data": {
            "image/png": "[encoded data removed]",
            "text/plain": [
              "<Figure size 640x480 with 1 Axes>"
            ]
          },
          "metadata": {},
          "output_type": "display_data"
        },
        {
          "name": "stdout",
          "output_type": "stream",
          "text": [
            "------------------------------------------------------\n",
            "Expected Exposure\n",
            "    default_time  Exposure\n",
            "0       0.000000  4.702149\n",
            "1       0.083333  5.263476\n",
            "2       0.166667  4.638207\n",
            "3       0.250000  3.976886\n",
            "4       0.333333  4.029914\n",
            "5       0.416667  3.735479\n",
            "6       0.500000  3.477811\n",
            "7       0.583333  2.581100\n",
            "8       0.666667  2.330543\n",
            "9       0.750000  2.022085\n",
            "10      0.833333  1.381156\n",
            "11      0.916667  0.757021\n",
            "Potential Exposure\n",
            "    default_time   Exposure\n",
            "0       0.000000  21.372446\n",
            "1       0.083333  21.762916\n",
            "2       0.166667  22.589171\n",
            "3       0.250000  19.055822\n",
            "4       0.333333  19.672282\n",
            "5       0.416667  16.757216\n",
            "6       0.500000  16.025786\n",
            "7       0.583333  11.989883\n",
            "8       0.666667  10.910162\n",
            "9       0.750000   9.631143\n",
            "10      0.833333   7.098832\n",
            "11      0.916667   4.296827\n",
            "Option Price\n",
            "    default_time      price\n",
            "0       0.000000  11.755374\n",
            "1       0.083333  13.158691\n",
            "2       0.166667  11.595518\n",
            "3       0.250000   9.942215\n",
            "4       0.333333  10.074786\n",
            "5       0.416667   9.338697\n",
            "6       0.500000   8.694528\n",
            "7       0.583333   6.452751\n",
            "8       0.666667   5.826358\n",
            "9       0.750000   5.055212\n",
            "10      0.833333   3.452891\n",
            "11      0.916667   1.892553\n"
          ]
        }
      ],
      "source": [
        "Expected_Exposure, Potential_Exposure = compute_risk_metrics(S0, K, T, r, sigma, recovery_rate, 500)\n",
        "\n",
        "# Plotting Expected_Exposure and Potential_Exposure\n",
        "Option_Price = pd.DataFrame()\n",
        "Option_Price['default_time'] = Expected_Exposure['default_time']\n",
        "Option_Price['price'] = Expected_Exposure['Exposure'] / recovery_rate\n",
        "plt.plot(Expected_Exposure['default_time'], Expected_Exposure['Exposure'], label='Expected Exposure', marker='x')\n",
        "plt.plot(Potential_Exposure['default_time'], Potential_Exposure['Exposure'], label='Potential Exposure', marker='x')\n",
        "plt.plot(Option_Price['default_time'], Option_Price['price'], label='Option Price', marker='x')\n",
        "\n",
        "plt.xlabel('Default Time ( 0 = Default immediately )')\n",
        "plt.ylabel('Exposure')\n",
        "plt.legend()\n",
        "\n",
        "plt.show()\n",
        "print('------------------------------------------------------')\n",
        "print('Expected Exposure')\n",
        "print(Expected_Exposure)\n",
        "print('Potential Exposure')\n",
        "print(Potential_Exposure)\n",
        "print('Option Price')\n",
        "print(Option_Price)"
      ]
    },
    {
      "cell_type": "code",
      "execution_count": null,
      "metadata": {
        "colab": {
          "base_uri": "https://localhost:8080/"
        },
        "id": "BOWtpYVlBu-B",
        "outputId": "19afbfd2-c55b-40d5-e373-46cd6a1c648f"
      },
      "outputs": [
        {
          "data": {
            "text/plain": [
              "{'Delta': 0.5743132075345124,\n",
              " 'Theta': -8.580530798935547,\n",
              " 'Rho': 45.00866293492596,\n",
              " 'Vega': 39.20007348559993}"
            ]
          },
          "execution_count": 17,
          "metadata": {},
          "output_type": "execute_result"
        }
      ],
      "source": [
        "aad_greeks(S0, K, T, r, sigma)"
      ]
    }
  ],
  "metadata": {
    "colab": {
      "provenance": []
    },
    "kernelspec": {
      "display_name": "Python 3",
      "name": "python3"
    },
    "language_info": {
      "name": "python"
    }
  },
  "nbformat": 4,
  "nbformat_minor": 0
}
